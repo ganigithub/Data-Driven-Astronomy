{
 "cells": [
  {
   "cell_type": "code",
   "execution_count": 1,
   "id": "77cc2456",
   "metadata": {},
   "outputs": [],
   "source": [
    "import numpy as np\n",
    "import pandas as pd"
   ]
  },
  {
   "cell_type": "markdown",
   "id": "0e30a896",
   "metadata": {},
   "source": [
    "Write two functions, one that converts right ascension from HMS to decimal degrees, called hms2dec, and another that converts declination from DMS to decimal degrees, called dms2dec."
   ]
  },
  {
   "cell_type": "code",
   "execution_count": 1,
   "id": "e1c1d03c",
   "metadata": {},
   "outputs": [],
   "source": [
    "#Right ascension(HMS to decomal)\n",
    "def hms2dec(h, m, s):\n",
    "  return 15*(h + m/60 + s/(60*60))\n",
    "\n",
    "#Declination(DMS to decimal)\n",
    "def dms2dec(d, m, s):\n",
    "  if d < 0:\n",
    "    sign = -1\n",
    "  else: sign = +1\n",
    "  \n",
    "  return sign*(abs(d) + m/60 + s/(60*60))"
   ]
  },
  {
   "cell_type": "code",
   "execution_count": null,
   "id": "ecffd199",
   "metadata": {},
   "outputs": [],
   "source": []
  },
  {
   "cell_type": "markdown",
   "id": "81228c77",
   "metadata": {},
   "source": [
    "Write a function called angular_dist that calculates the angular distance between any two points on the celestial sphere given their right ascension and declination.\n",
    "\n",
    "Your function should take arguments in decimal degrees and return the distance in decimal degrees too.\n",
    "\n",
    "d = 2 * arcsin √ ( (sin2|δ1−δ2| / 2) + (cosδ1 cosδ2 sin2|α1−α2| / 2) )\n"
   ]
  },
  {
   "cell_type": "code",
   "execution_count": 4,
   "id": "7298372e",
   "metadata": {},
   "outputs": [],
   "source": [
    "def agular_dist(r1, d1, r2, d2):\n",
    "    #since all values are in degrees, we need to convert them to radians. Since numpy works in radians\n",
    "    r1 = np.radians(r1)\n",
    "    d1 = np.radians(d1)\n",
    "    r2 = np.radians(r2)\n",
    "    d2 = np.radians(d2)\n",
    "    \n",
    "    #formulating \n",
    "    \n",
    "    a = np.sin(abs(d1-d2)/2)**2\n",
    "    b = np.cos(d1) * np.cos(d2) * np.sin(abs(r1 -r2)/2)**2\n",
    "    angle = 2 * np.arcsin(np.sqrt(a+b))\n",
    "    \n",
    "    #again converting final angle into degrees\n",
    "    return np.degrees(angle)"
   ]
  },
  {
   "cell_type": "code",
   "execution_count": null,
   "id": "116bed37",
   "metadata": {},
   "outputs": [],
   "source": []
  },
  {
   "cell_type": "markdown",
   "id": "3b5ecf18",
   "metadata": {},
   "source": [
    "Write import_bss and import_super functions that import the AT20G BSS and SuperCOSMOS catalogues from the files bss.dat and super.csv as described in the previous slides.\n",
    "\n",
    "Each function should return a list of tuples containing the object's ID (an integer) and the coordinates in degrees. The object ID should be the row of the object in the catalogue, starting at 1."
   ]
  },
  {
   "cell_type": "code",
   "execution_count": 11,
   "id": "8a96d084",
   "metadata": {},
   "outputs": [],
   "source": [
    "import numpy as np\n",
    "\n",
    "#converting RA to Degrees:\n",
    "def hms2dec(h,m,s):\n",
    "  return 15 * (h + m/60 + s/3600)\n",
    "\n",
    "#converting Declination to Degrees;\n",
    "def dms2dec(d,m,s):\n",
    "  if d<0:\n",
    "    sign = -1\n",
    "  else: sign = +1\n",
    "  return sign*(abs(d) + m/60 + s/3600)\n",
    "\n",
    "def import_bss():\n",
    "  result = []\n",
    "  data = np.loadtxt('bss.dat', usecols =range(1,7))\n",
    "  for i, row in enumerate(data, start = 1):  #i will start from 1 and not 0\n",
    "    result.append((i, hms2dec(row[0], row[1], row[2]), dms2dec(row[3], row[4], row[5])))\n",
    "  return result\n",
    "\n",
    "def import_super():\n",
    "  result = []\n",
    "  data = np.loadtxt('super.csv', delimiter=',', skiprows=1, usecols=(0,1))\n",
    "  for i, row in enumerate(data, start = 1):\n",
    "    result.append((i, row[0], row[1]))        #we dont need to convert since they are already in degrees\n",
    "  return result"
   ]
  },
  {
   "cell_type": "code",
   "execution_count": null,
   "id": "f8a4176e",
   "metadata": {},
   "outputs": [],
   "source": []
  },
  {
   "cell_type": "markdown",
   "id": "78c142b9",
   "metadata": {},
   "source": [
    "Write a find_closest function that takes a catalogue and the position of a target source (a right ascension and declination) and finds the closest match for the target source in the catalogue.\n",
    "\n",
    "Your function should return the ID of the closest object and the distance to that object.\n",
    "\n",
    "The right ascension and declination are in degrees. The catalogue list has been loaded by import_bss from the previous question. The full 320 object BSS catalogue is contained in bss.dat for you to test your code on."
   ]
  },
  {
   "cell_type": "code",
   "execution_count": 7,
   "id": "c5c35bc5",
   "metadata": {},
   "outputs": [],
   "source": [
    "# Write your find_closest function here\n",
    "import numpy as np\n",
    "\n",
    "#RA to degrees\n",
    "def hms2dec(h,m,s):\n",
    "    return 15*(h + m/60 + s/3600)\n",
    "\n",
    "#Declination to degrees\n",
    "def dms2dec(d,m,s):\n",
    "    sign = d/abs(d)\n",
    "    return sign*(abs(d) + m/60 + s/3600)\n",
    "\n",
    "#angular distance between two points\n",
    "def angular_dist(r1,d1,r2,d2):\n",
    "    r1 = np.radians(r1)\n",
    "    d1 = np.radians(d1)\n",
    "    r2 = np.radians(r2)\n",
    "    d2 = np.radians(d2)\n",
    "  \n",
    "    a = np.sin(abs(d1-d2)/2)**2\n",
    "    b = np.cos(d1) * np.cos(d2) * np.sin(abs(r1-r2)/2)**2\n",
    "    angle = 2 * np.arcsin(np.sqrt(a+b))\n",
    "    return np.degrees(angle)\n",
    "\n",
    "def import_bss():\n",
    "    result = []\n",
    "    data = np.loadtxt('bss.dat',usecols = range(1,7))\n",
    "    for i, row in enumerate(data,1):\n",
    "        result.append((i, hms2dec(row[0],row[1], row[2]), dms2dec(row[3],row[4],row[5])))\n",
    "    return result\n",
    "\n",
    "def find_closest(cat, ra, dec):\n",
    "    min_dist = np.inf\n",
    "    min_id = None\n",
    "    for id1, ra1, dec1 in cat:\n",
    "        dist = angular_dist(ra1,dec1,ra,dec)\n",
    "    if dist < min_dist:\n",
    "        min_id = id1\n",
    "        min_dist = dist\n",
    "      \n",
    "    return min_id, min_dist"
   ]
  },
  {
   "cell_type": "markdown",
   "id": "a83be82d",
   "metadata": {},
   "source": [
    "Write a crossmatch function that crossmatches two catalogues within a maximum distance. It should return a list of matches and non-matches for the first catalogue against the second.\n",
    "\n",
    "The list of matches contains tuples of the first and second catalogue object IDs and their distance. The list of non-matches contains the unmatched object IDs from the first catalogue only. Both lists should be ordered by the first catalogue's IDs.\n",
    "\n",
    "The BSS and SuperCOSMOS catalogues will be given as input arguments, each in the format you’ve seen previously. The maximum distance is given in decimal degrees."
   ]
  },
  {
   "cell_type": "code",
   "execution_count": 9,
   "id": "5b379696",
   "metadata": {},
   "outputs": [],
   "source": [
    "import numpy as np\n",
    "\n",
    "#RA to degrees\n",
    "def hms2dec(h,m,s):\n",
    "    return 15*(h + m/60 + s/3600)\n",
    "\n",
    "#Declination to degrees\n",
    "def dms2dec(d,m,s):\n",
    "    sign = d/abs(d)\n",
    "    return sign*(abs(d) + m/60 + s/3600)\n",
    "\n",
    "#angular distance between two points\n",
    "def angular_dist(r1,d1,r2,d2):\n",
    "    r1 = np.radians(r1)\n",
    "    d1 = np.radians(d1)\n",
    "    r2 = np.radians(r2)\n",
    "    d2 = np.radians(d2)\n",
    "  \n",
    "    a = np.sin(abs(d1-d2)/2)**2\n",
    "    b = np.cos(d1) * np.cos(d2) * np.sin(abs(r1-r2)/2)**2\n",
    "    angle = 2 * np.arcsin(np.sqrt(a+b))\n",
    "    return np.degrees(angle)\n",
    "\n",
    "def import_bss():\n",
    "    result = []\n",
    "    data = np.loadtxt('bss.dat',usecols = range(1,7))\n",
    "    for i, row in enumerate(data,1):\n",
    "        result.append((i, hms2dec(row[0],row[1], row[2]), dms2dec(row[3],row[4],row[5])))\n",
    "    return result\n",
    "\n",
    "def import_super():\n",
    "    result = []\n",
    "    data = np.loadtxt('super.csv', usecols = (0,1), skiprows = 1)\n",
    "    for i, row in enumerate(data, 1):\n",
    "        result.append((i, row[0], row[1]))\n",
    "    return result\n",
    "\n",
    "#crossmatch funcition:\n",
    "def crossmatch(cat1, cat2, max_radius):\n",
    "    matches = []\n",
    "    no_matches = []\n",
    "    for id1, ra1, dec1 in cat1:\n",
    "        closest_dist = np.inf\n",
    "        closest_id2 = None\n",
    "        for id2, ra2, dec2 in cat2:\n",
    "            dist = angular_dist(ra1, dec1, ra2, dec2)\n",
    "            if dist < closest_dist:\n",
    "                closest_dist = dist\n",
    "                closest_id2 = id2\n",
    "        \n",
    "        # Ignore match if it's outside the maximum radius\n",
    "        if closest_dist > max_radius:\n",
    "            no_matches.append(id1)\n",
    "        else:\n",
    "            matches.append((id1, closest_id2, closest_dist))\n",
    "    \n",
    "    return matches , no_matches"
   ]
  },
  {
   "cell_type": "code",
   "execution_count": null,
   "id": "b6cc9de0",
   "metadata": {},
   "outputs": [],
   "source": []
  }
 ],
 "metadata": {
  "kernelspec": {
   "display_name": "Python 3",
   "language": "python",
   "name": "python3"
  },
  "language_info": {
   "codemirror_mode": {
    "name": "ipython",
    "version": 3
   },
   "file_extension": ".py",
   "mimetype": "text/x-python",
   "name": "python",
   "nbconvert_exporter": "python",
   "pygments_lexer": "ipython3",
   "version": "3.8.8"
  }
 },
 "nbformat": 4,
 "nbformat_minor": 5
}
