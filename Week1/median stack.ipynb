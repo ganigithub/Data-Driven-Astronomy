{
 "cells": [
  {
   "cell_type": "markdown",
   "id": "62e59d0d",
   "metadata": {},
   "source": [
    "### Calculating Median Stack"
   ]
  },
  {
   "cell_type": "markdown",
   "id": "f5aab512",
   "metadata": {},
   "source": [
    "Write a function called list_stats that takes a list of numbers and returns a tuple of the median and mean of the list (in this order).\n",
    "\n",
    "The function should work on lists with even or odd numbers of elements and handle the case of a one-element list.\n",
    "\n",
    "Your solution cannot use the builtin statistics module."
   ]
  },
  {
   "cell_type": "code",
   "execution_count": 1,
   "id": "3f7a3d10",
   "metadata": {},
   "outputs": [
    {
     "name": "stdout",
     "output_type": "stream",
     "text": [
      "(2.55, 5.175)\n",
      "(1.5, 1.5)\n"
     ]
    }
   ],
   "source": [
    "def list_stats(values):\n",
    "  N = len(values)\n",
    "  if N==0:\n",
    "    return\n",
    "  \n",
    "  #mean\n",
    "  mean = sum(values)/N\n",
    "  \n",
    "  #median\n",
    "  values.sort()   #first sort the list\n",
    "  mid = int(N/2)  #middle value\n",
    "  if N % 2 == 0:  #for even lists\n",
    "    median = (values[mid] + values[mid - 1])/2\n",
    "    \n",
    "  else:           #for odd lists\n",
    "    median = values[mid]\n",
    "\n",
    "  return median, mean\n",
    "\n",
    "\n",
    "# You can use this to test your function.\n",
    "# Any code inside this `if` statement will be ignored by the automarker.\n",
    "if __name__ == '__main__':\n",
    "  # Run your function with the first example in the question.\n",
    "  m = list_stats([1.3, 2.4, 20.6, 0.95, 3.1, 2.7])\n",
    "  print(m)\n",
    "\n",
    "  # Run your function with the second example in the question\n",
    "  m = list_stats([1.5])\n",
    "  print(m)"
   ]
  },
  {
   "cell_type": "markdown",
   "id": "1f4bd0f5",
   "metadata": {},
   "source": [
    "Write a time_stat function to time our statistic implementations.\n",
    "\n",
    "time_stat should take three arguments: the func function we're timing, the size of the random array to test, and the number of experiments to perform. It should return the average running time for the func function.\n",
    "\n",
    "We have provided a skeleton time_stat function to show you how func should be called. You should add timing code to this function.\n",
    "\n",
    "The time for creating new random arrays for each experiment should not be included in the running time."
   ]
  },
  {
   "cell_type": "code",
   "execution_count": 2,
   "id": "d4f1465e",
   "metadata": {},
   "outputs": [
    {
     "name": "stdout",
     "output_type": "stream",
     "text": [
      "0.283361s for statistics.mean\n",
      "0.000101s for np.mean\n"
     ]
    }
   ],
   "source": [
    "import numpy as np\n",
    "import statistics\n",
    "import time\n",
    "\n",
    "def time_stat(func, size, ntrials):\n",
    "  total = 0\n",
    "  # the time to generate the random array should not be included\n",
    "  for i in range(ntrials):\n",
    "    data = np.random.rand(size)\n",
    "    start = time.perf_counter()\n",
    "    \n",
    "  # modify this function to time func with ntrials times using a new random array each time\n",
    "    res = func(data)\n",
    "    total += time.perf_counter() - start\n",
    "  \n",
    "  # return the average run time\n",
    "  return total/ntrials\n",
    "\n",
    "if __name__ == '__main__':\n",
    "  print('{:.6f}s for statistics.mean'.format(time_stat(statistics.mean, 10**5, 10)))\n",
    "  print('{:.6f}s for np.mean'.format(time_stat(np.mean, 10**5, 1000)))\n"
   ]
  },
  {
   "cell_type": "markdown",
   "id": "d74d19df",
   "metadata": {},
   "source": [
    "Write a median_fits function which takes a list of FITS filenames, loads them into a NumPy array, and calculates the median image (where each pixel is the median of that pixel over every FITS file).\n",
    "\n",
    "Your function should return a tuple of the median NumPy array, the time it took the function to run, and the amount of memory (in kB) used to store all the FITS files in the NumPy array in memory.\n",
    "\n",
    "The running time should include loading the FITS files and calculating the median."
   ]
  },
  {
   "cell_type": "code",
   "execution_count": 5,
   "id": "71de7065",
   "metadata": {},
   "outputs": [],
   "source": [
    "import numpy as np   #for median\n",
    "from astropy.io import fits  #for loading fits file\n",
    "import time          #for calculating time\n",
    "\n",
    "def median_fits(filenames):\n",
    "  start = time.perf_counter()  #start timer\n",
    "  \n",
    "  #read all files and store in list\n",
    "  fits_list = []\n",
    "  for file in filenames:\n",
    "    hdulist = fits.open(file)\n",
    "    fits_list.append(hdulist[0].data)\n",
    "    hdulist.close()\n",
    "    \n",
    "  # Stack image arrays in 3D array for median calculation\n",
    "  fits_stack = np.dstack(fits_list) \n",
    "  median = np.median(fits_stack, axis = 2)\n",
    "  \n",
    "  #calculating memory consumed by data\n",
    "  memory = fits_stack.nbytes/1024  #converting to kb\n",
    "    \n",
    "  total_time = time.perf_counter() - start\n",
    "  return median, total_time, memory"
   ]
  },
  {
   "cell_type": "markdown",
   "id": "b553df6a",
   "metadata": {},
   "source": [
    "Let's implement the binapprox algorithm to calculate the median of a list of numbers. This algorithm is quite complex, so we'll break it down into managable parts.\n",
    "\n",
    "Your task is to write two functions:\n",
    "\n",
    "1.median_bins to calculate the mean, standard deviation and the bins (steps 1-6 on the previous slide) 2.\n",
    "median_approx which calls median_bins and then calculates the approximated median (steps 7-8).\n",
    "We will test each function separately.\n",
    "\n",
    "median_bins(values, B) :\n",
    "This function takes a list of values and the number of bins, B, and returns the mean μ and standard deviation σ of the values, the number of values smaller than μ−σ, and a NumPy array with B elements containing the bin counts.\n",
    "\n",
    "median_approx(values, B) :\n",
    "This function takes the same input as median_bins. It should return the approximate median using median_bins to calculate the bins. Using the same data as above, it should work like this:"
   ]
  },
  {
   "cell_type": "code",
   "execution_count": 11,
   "id": "24e3bf78",
   "metadata": {},
   "outputs": [
    {
     "name": "stdout",
     "output_type": "stream",
     "text": [
      "(2.5, 1.707825127659933, 0, array([2., 3., 0.]))\n",
      "2.5\n",
      "(3.875, 2.521780125229002, 3, array([0., 1., 1., 1.]))\n",
      "4.50544503130725\n"
     ]
    }
   ],
   "source": [
    "# Write your median_bins and median_approx functions here.\n",
    "import numpy as np\n",
    "\n",
    "def median_bins(values, B):\n",
    "  mean = np.mean(values)\n",
    "  std = np.std(values)\n",
    "  \n",
    "  #creating bins\n",
    "  left_bin = 0    #stores values less than (mean - std)\n",
    "  bins = np.zeros(B)   #setting bins with counts as zero\n",
    "  bin_width = 2*std/B\n",
    "   \n",
    "  #Bin values\n",
    "  for value in values:\n",
    "    if value < mean - std:\n",
    "      left_bin += 1\n",
    "    elif value < mean + std:\n",
    "      bin = int((value - (mean - std)) / bin_width)\n",
    "      bins[bin] += 1\n",
    "  \n",
    "  return mean , std, left_bin, bins\n",
    "\n",
    "def median_approx(values, B):\n",
    "  mean, std, left_bin, bins = median_bins(values, B)\n",
    "  \n",
    "  #position of middle element\n",
    "  N = len(values)\n",
    "  mid = (N + 1)/2\n",
    "  \n",
    "  count = left_bin\n",
    "  for b, bincount in enumerate(bins):\n",
    "    count += bincount\n",
    "    \n",
    "    # Stop when the cumulative count exceeds the midpoint\n",
    "    if count >= mid:\n",
    "      break\n",
    "  \n",
    "  bin_width = 2*std/B\n",
    "  median = mean - std + bin_width*(b + 0.5)\n",
    "  return median\n",
    "\n",
    "print(median_bins([1, 1, 3, 2, 2, 6], 3))\n",
    "print(median_approx([1, 1, 3, 2, 2, 6], 3))\n",
    "\n",
    "print(median_bins([1, 5, 7, 7, 3, 6, 1, 1], 4))\n",
    "print(median_approx([1, 5, 7, 7, 3, 6, 1, 1], 4))\n"
   ]
  },
  {
   "cell_type": "code",
   "execution_count": null,
   "id": "ce67abc4",
   "metadata": {},
   "outputs": [],
   "source": []
  },
  {
   "cell_type": "code",
   "execution_count": null,
   "id": "5947a861",
   "metadata": {},
   "outputs": [],
   "source": []
  },
  {
   "cell_type": "code",
   "execution_count": null,
   "id": "77f45d90",
   "metadata": {},
   "outputs": [],
   "source": []
  },
  {
   "cell_type": "code",
   "execution_count": null,
   "id": "042bff0e",
   "metadata": {},
   "outputs": [],
   "source": []
  },
  {
   "cell_type": "code",
   "execution_count": null,
   "id": "71e1d8a2",
   "metadata": {},
   "outputs": [],
   "source": []
  }
 ],
 "metadata": {
  "kernelspec": {
   "display_name": "Python 3",
   "language": "python",
   "name": "python3"
  },
  "language_info": {
   "codemirror_mode": {
    "name": "ipython",
    "version": 3
   },
   "file_extension": ".py",
   "mimetype": "text/x-python",
   "name": "python",
   "nbconvert_exporter": "python",
   "pygments_lexer": "ipython3",
   "version": "3.8.8"
  }
 },
 "nbformat": 4,
 "nbformat_minor": 5
}
