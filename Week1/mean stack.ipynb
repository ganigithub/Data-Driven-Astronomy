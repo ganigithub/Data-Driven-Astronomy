{
 "cells": [
  {
   "cell_type": "markdown",
   "id": "700f4953",
   "metadata": {},
   "source": [
    "# DDA"
   ]
  },
  {
   "cell_type": "code",
   "execution_count": null,
   "id": "c92cd20c",
   "metadata": {},
   "outputs": [],
   "source": []
  },
  {
   "cell_type": "code",
   "execution_count": 1,
   "id": "1a8db1d0",
   "metadata": {},
   "outputs": [],
   "source": [
    "import pandas as pd\n",
    "import numpy as np"
   ]
  },
  {
   "cell_type": "markdown",
   "id": "07713769",
   "metadata": {},
   "source": [
    "### calculating Mean stack"
   ]
  },
  {
   "cell_type": "code",
   "execution_count": null,
   "id": "40960dad",
   "metadata": {},
   "outputs": [],
   "source": []
  },
  {
   "cell_type": "markdown",
   "id": "68268453",
   "metadata": {},
   "source": [
    "Write a calc_stats function that reads data from a CSV file and calculates its mean and the median. Your function should take the name of the file as an argument and return the mean and median in a tuple, rounded to one decimal place."
   ]
  },
  {
   "cell_type": "code",
   "execution_count": 14,
   "id": "ea702638",
   "metadata": {},
   "outputs": [],
   "source": [
    "def cal_stats(file):\n",
    "    \n",
    "    file = np.loadtxt(file, delimiter = ',')\n",
    "    \n",
    "    return round(np.mean(file),1), round(np.median(file),1)"
   ]
  },
  {
   "cell_type": "code",
   "execution_count": null,
   "id": "cc9960d7",
   "metadata": {},
   "outputs": [],
   "source": []
  },
  {
   "cell_type": "markdown",
   "id": "f9aa2cb3",
   "metadata": {},
   "source": [
    "Write a mean_datasets function that reads in a list of CSV files and returns an array of the mean of each cell in the data files."
   ]
  },
  {
   "cell_type": "code",
   "execution_count": 5,
   "id": "80a14d7f",
   "metadata": {},
   "outputs": [],
   "source": [
    "def mean_datasets(filenames):\n",
    "    \n",
    "    if len(filenames) > 0:\n",
    "        data = np.loadtxt(filenames[0], delimiter = ',')  #converting csv files into datasets\n",
    "        \n",
    "        for i in range(1, len(filenames)):\n",
    "            data += np.loadtxt(filenames[i], delimiter = ',')\n",
    "    \n",
    "    mean = data / len(filenames)\n",
    "    \n",
    "    return np.round(mean,2)"
   ]
  },
  {
   "cell_type": "code",
   "execution_count": null,
   "id": "ad6708ca",
   "metadata": {},
   "outputs": [],
   "source": []
  },
  {
   "cell_type": "markdown",
   "id": "d63bc0bc",
   "metadata": {},
   "source": [
    "Write a load_fits function that loads in a FITS(Flexible Image Tronsport System) file and finds the position of the brightest pixel (i.e. the maximum value) in its image data. To make this function work for arbitrary files, pass the name of the FITS file as an argument to the function."
   ]
  },
  {
   "cell_type": "code",
   "execution_count": 7,
   "id": "680eef19",
   "metadata": {},
   "outputs": [],
   "source": [
    "from astropy.io import fits"
   ]
  },
  {
   "cell_type": "code",
   "execution_count": null,
   "id": "7a70fa39",
   "metadata": {},
   "outputs": [],
   "source": [
    "def load_fits(image):\n",
    "   \n",
    "    img = fits.open(image)  #opening the image\n",
    "    data = img[0].data      #accessing the image\n",
    "    \n",
    "    max_arg  = np.argmax(data)   #finding index of maximum number in 1D array\n",
    "    brightest = np.unravel_index(max, data.shape)  #by unravel_index, we get the 2D coordinates of max_arg\n",
    "    \n",
    "    return brightest"
   ]
  },
  {
   "cell_type": "code",
   "execution_count": null,
   "id": "50c525ff",
   "metadata": {},
   "outputs": [],
   "source": []
  },
  {
   "cell_type": "markdown",
   "id": "62b9faff",
   "metadata": {},
   "source": [
    "Write a mean_fits function that takes a list of FITS files as an argument, reads them in, and returns the mean image data of the FITS files. All the images have the same dimensions and your calculated mean array should match those dimensions."
   ]
  },
  {
   "cell_type": "code",
   "execution_count": 13,
   "id": "a6c627a4",
   "metadata": {},
   "outputs": [],
   "source": [
    "def mean_fits(filenames):\n",
    "    \n",
    "    if len(filenames) > 0:\n",
    "        hdulist = fits.open(filename[0])   #hdu : header data unit\n",
    "        data = hdulist[0].data\n",
    "        \n",
    "        for i in range(1, len(filenames)):\n",
    "            hdulist = fits.open(filenames[i])\n",
    "            data += hdulist[0].data\n",
    "            \n",
    "    mean = data / len(filenames)\n",
    "    \n",
    "    return mean"
   ]
  },
  {
   "cell_type": "code",
   "execution_count": null,
   "id": "634b64c8",
   "metadata": {},
   "outputs": [],
   "source": []
  },
  {
   "cell_type": "code",
   "execution_count": null,
   "id": "42d0bc4d",
   "metadata": {},
   "outputs": [],
   "source": []
  },
  {
   "cell_type": "code",
   "execution_count": null,
   "id": "ba237bf5",
   "metadata": {},
   "outputs": [],
   "source": []
  },
  {
   "cell_type": "code",
   "execution_count": null,
   "id": "3a42f28f",
   "metadata": {},
   "outputs": [],
   "source": []
  },
  {
   "cell_type": "code",
   "execution_count": null,
   "id": "e5a5b5a6",
   "metadata": {},
   "outputs": [],
   "source": []
  },
  {
   "cell_type": "code",
   "execution_count": null,
   "id": "8b9f8719",
   "metadata": {},
   "outputs": [],
   "source": []
  }
 ],
 "metadata": {
  "kernelspec": {
   "display_name": "Python 3",
   "language": "python",
   "name": "python3"
  },
  "language_info": {
   "codemirror_mode": {
    "name": "ipython",
    "version": 3
   },
   "file_extension": ".py",
   "mimetype": "text/x-python",
   "name": "python",
   "nbconvert_exporter": "python",
   "pygments_lexer": "ipython3",
   "version": "3.8.8"
  }
 },
 "nbformat": 4,
 "nbformat_minor": 5
}
